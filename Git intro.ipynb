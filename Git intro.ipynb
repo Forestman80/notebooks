{
 "cells": [
  {
   "cell_type": "markdown",
   "metadata": {},
   "source": [
    "1. [Подробная инструкция](https://git-scm.com/book/ru/v1/%D0%9E%D1%81%D0%BD%D0%BE%D0%B2%D1%8B-Git)\n",
    "\n",
    "2. [Упражнение на понимание](https://learngitbranching.js.org/)\n",
    "3. [Шпаргалка](https://eax.me/git-commands/)"
   ]
  },
  {
   "cell_type": "markdown",
   "metadata": {},
   "source": [
    "# Git \n",
    "\n",
    "\n",
    "1. Регистрируемся на [GitHub](http://github.com)\n",
    "2. Скачиваем и устанавливаем git.\n",
    "3. Открываем git bash и логинимся \n",
    "```bash\n",
    "$ git config --global user.name \"Your name here\"\n",
    "$ git config --global user.email \"your_email@example.com\"\n",
    "```\n",
    "\n",
    "Переходим в папку, которую хотим обозначить как место хранения git файлов.\n",
    "```bash\n",
    "$ cd C:\\Users\\golovko.a\\dev\n",
    "```\n",
    "\n",
    "Теперь можно выполнить `git init`\n",
    "Эта команда делается один раз и по сути опредялет в какой папке будут хвранится все файлы git\n",
    "\n"
   ]
  },
  {
   "cell_type": "markdown",
   "metadata": {},
   "source": [
    "**Команды:**\n",
    "1. Узнать текущую дерикторию\n",
    "`$ pwd`\n",
    "2. Создать папку dev\n",
    "`$ mkdir dev`\n",
    "3. Перейти в папку dev\n",
    "`$ cd dev`"
   ]
  },
  {
   "cell_type": "markdown",
   "metadata": {},
   "source": [
    "## Клонирование существующего репозитория\n",
    "\n",
    "```bash\n",
    "$ git clone git://github.com/schacon/grit.git\n",
    "```\n",
    "\n",
    "Если вы хотите клонировать репозиторий в каталог, отличный от grit, можно это указать в следующем параметре командной строки:\n",
    "```bash\n",
    "$ git clone git://github.com/schacon/grit.git mygrit\n",
    "```\n",
    "\n",
    "Мой репозиторий с Jupyter Notebooks\n",
    "`https://github.com/fugrusha/notebooks.git`"
   ]
  },
  {
   "cell_type": "markdown",
   "metadata": {},
   "source": [
    "### Обновление \n",
    "\n",
    "перед началом работы не забываем «накатить» в локальный репозиторий последнюю версию кода:\n",
    "```bash\n",
    "$ git fetch\n",
    "```\n",
    "\n",
    "### Определение состояния файлов\n",
    "Основной инструмент, используемый для определения, какие файлы в каком состоянии находятся — это команда \n",
    "```bash\n",
    "$ git status\n",
    "```\n",
    "\n",
    "\n",
    "### Отслеживание новых файлов\n",
    "Для того чтобы начать отслеживать (добавить под версионный контроль) новый файл, используется команда `git add`. Чтобы начать отслеживание файла script.py:\n",
    "```bash\n",
    "$ git add script.py\n",
    "```\n",
    "Команда `git add` принимает параметром путь к файлу или каталогу, если это каталог, команда рекурсивно добавляет (индексирует) все файлы в данном каталоге.\n",
    "\n",
    "\n",
    "### Создание ветки\n",
    "\n",
    "Чтобі сделать изменения в проекте, создается новая ветка:\n",
    "```bash\n",
    "$ git branch new_feature\n",
    "$ git checkout new_feature\n",
    "```\n",
    "Работаем с этой веткой. Если ничего хорошего не вышло, возвращаемся к основной ветке:\n",
    "```bash\n",
    "$ git checkout master\n",
    "```\n",
    "Если вышло что-то хорошее, мержим ветку в master:\n",
    "```bash\n",
    "$ git commit -a # делаем коммит всех изменений в new_feature\n",
    "$ git checkout master # переключаемся на master\n",
    "$ git merge new_feature # мержим ветку new_feature\n",
    "```\n",
    "\n",
    "Отправить на Github :\n",
    "```bash\n",
    "$ git push\n",
    "```\n"
   ]
  },
  {
   "cell_type": "code",
   "execution_count": null,
   "metadata": {},
   "outputs": [],
   "source": []
  }
 ],
 "metadata": {
  "kernelspec": {
   "display_name": "Python 3",
   "language": "python",
   "name": "python3"
  },
  "language_info": {
   "codemirror_mode": {
    "name": "ipython",
    "version": 3
   },
   "file_extension": ".py",
   "mimetype": "text/x-python",
   "name": "python",
   "nbconvert_exporter": "python",
   "pygments_lexer": "ipython3",
   "version": "3.7.3"
  }
 },
 "nbformat": 4,
 "nbformat_minor": 2
}
